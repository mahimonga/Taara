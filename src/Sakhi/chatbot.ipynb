{
  "nbformat": 4,
  "nbformat_minor": 0,
  "metadata": {
    "colab": {
      "name": "chatbot2.ipynb",
      "provenance": [],
      "collapsed_sections": []
    },
    "kernelspec": {
      "name": "python3",
      "display_name": "Python 3"
    }
  },
  "cells": [
    {
      "cell_type": "code",
      "metadata": {
        "id": "_o516wlPWe7T"
      },
      "source": [
        "#mounting drive\n",
        "from google.colab import drive\n",
        "drive.mount('/content/drive')"
      ],
      "execution_count": null,
      "outputs": []
    },
    {
      "cell_type": "code",
      "metadata": {
        "id": "d30ka84vWkTn",
        "colab": {
          "base_uri": "https://localhost:8080/"
        },
        "outputId": "ad627419-3241-47cf-e69e-2aa9ba7b4c24"
      },
      "source": [
        "#importing required lib\n",
        "import nltk\n",
        "from nltk.tokenize import sent_tokenize, word_tokenize\n",
        "nltk.download('punkt')\n",
        "nltk.download('wordnet')\n",
        "import numpy as np\n",
        "import random\n",
        "import string \n",
        "import warnings\n",
        "warnings.simplefilter(\"ignore\")"
      ],
      "execution_count": null,
      "outputs": [
        {
          "output_type": "stream",
          "text": [
            "[nltk_data] Downloading package punkt to /root/nltk_data...\n",
            "[nltk_data]   Package punkt is already up-to-date!\n",
            "[nltk_data] Downloading package wordnet to /root/nltk_data...\n",
            "[nltk_data]   Package wordnet is already up-to-date!\n"
          ],
          "name": "stdout"
        }
      ]
    },
    {
      "cell_type": "code",
      "metadata": {
        "id": "JpkozIXBW2vR",
        "colab": {
          "base_uri": "https://localhost:8080/"
        },
        "outputId": "6f8b4011-c397-431d-ce6b-98515d8e86c6"
      },
      "source": [
        "text_data = open('/content/drive/MyDrive/breast_cancer/breast_cancer.txt','r',errors = 'ignore')\n",
        "#text_data = open('/content/breast_cancer.txt','r',errors = 'ignore')\n",
        "raw_data = text_data.read()\n",
        "raw_data = raw_data.lower()# converts to lowercase\n",
        "nltk.download('punkt') \n",
        "nltk.download('wordnet') \n",
        "sent_tokens = nltk.sent_tokenize(raw_data)# converts to list of sentences \n",
        "word_tokens = nltk.word_tokenize(raw_data)# converts to list of words"
      ],
      "execution_count": null,
      "outputs": [
        {
          "output_type": "stream",
          "text": [
            "[nltk_data] Downloading package punkt to /root/nltk_data...\n",
            "[nltk_data]   Package punkt is already up-to-date!\n",
            "[nltk_data] Downloading package wordnet to /root/nltk_data...\n",
            "[nltk_data]   Package wordnet is already up-to-date!\n"
          ],
          "name": "stdout"
        }
      ]
    },
    {
      "cell_type": "code",
      "metadata": {
        "id": "5VXWmsoHYPmy"
      },
      "source": [
        "lemmer = nltk.stem.WordNetLemmatizer()\n",
        "#WordNet is a semantically-oriented dictionary of English included in NLTK.\n",
        "def LemTokens(tokens):\n",
        "    return [lemmer.lemmatize(token) for token in tokens]\n",
        "remove_punct_dict = dict((ord(punct), None) for punct in string.punctuation)\n",
        "def LemNormalize(text):\n",
        "    return LemTokens(nltk.word_tokenize(text.lower().translate(remove_punct_dict)))"
      ],
      "execution_count": null,
      "outputs": []
    },
    {
      "cell_type": "code",
      "metadata": {
        "id": "GAWNiKSGYrLf"
      },
      "source": [
        "GREETING_INPUTS = (\"hello\", \"hi\", \"greetings\", \"sup\", \"what's up\",\"hey\",)\n",
        "GREETING_RESPONSES = [\"hi\", \"hey\", \"*nods*\", \"hi there\", \"hello\", \"I am glad! You are talking to me\"]\n",
        "def greeting(sentence):\n",
        " \n",
        "    for word in sentence.split():\n",
        "        if word.lower() in GREETING_INPUTS:\n",
        "            return random.choice(GREETING_RESPONSES)"
      ],
      "execution_count": null,
      "outputs": []
    },
    {
      "cell_type": "code",
      "metadata": {
        "id": "0rXz5_utbD3F"
      },
      "source": [
        "BREAST_CANCER_INPUT = (\"what is breast cancer\")\n",
        "BREAST_CANCER_RESPONSE = (\"Breast cancer is cancer that forms in the cells of the breasts. After skin cancer, breast cancer is the most common cancer diagnosed in women in the United States. Breast cancer can occur in both men and women, but it's far more common in women.\")\n",
        "def breastcancer(sentence):\n",
        "    for word in sentence.split():\n",
        "        if word.lower() in BREAST_CANCER_INPUT:\n",
        "            return (BREAST_CANCER_RESPONSE)"
      ],
      "execution_count": null,
      "outputs": []
    },
    {
      "cell_type": "code",
      "metadata": {
        "id": "nhzzIGpd0quO"
      },
      "source": [
        "SYMPTOMS_INPUT = (\"symptoms\",\"tell me symptoms of breast cancer\",\"what are the symptoms\",\"the symptoms are?\",'what are symptoms')\n",
        "SYMPTOMS_RESPONSE = (\"New lump in the breast or underarm,Thickening or swelling of part of the breast,Irritation or dimpling of breast skin,Redness or flaky skin in the nipple area or the breast,Pulling in of the nipple or pain in the nipple area,Nipple discharge other than breast milk, including blood,Any change in the size or the shape of the breast,Pain in any area of the breast\")\n",
        "def symptoms(sentence):\n",
        "    for word in sentence.split():\n",
        "        if word.lower() in SYMPTOMS_INPUT:\n",
        "            return (SYMPTOMS_RESPONSE)"
      ],
      "execution_count": null,
      "outputs": []
    },
    {
      "cell_type": "code",
      "metadata": {
        "id": "7dtW2qw4161l"
      },
      "source": [
        "RISK_INPUT = (\"what are the risk factors\",\"risk factors\",\"risk factors for breast cancer are?\")\n",
        "RISK_RESPONSE = (\"Not being physically active,Being overweight or obese after menopause,Taking hormones,Reproductive history,Drinking alcohol,Beginning your period at a younger age,Beginning menopause at an older age,Beginning menopause at an older age,Postmenopausal hormone therapy,\")\n",
        "def risk(sentence):\n",
        "    for word in sentence.split():\n",
        "        if word.lower() in RISK_INPUT:\n",
        "            return (RISK_RESPONSE)"
      ],
      "execution_count": null,
      "outputs": []
    },
    {
      "cell_type": "code",
      "metadata": {
        "id": "Zg-q5mBJ207M"
      },
      "source": [
        "REDUCE_RISK_INPUT = ('how to reduce risk','how to reduce risk of breast cancer','reduce risk','reduce the risk of breast cancer')\n",
        "REDUCE_RISK_RESPONSE = ('Keep a healthy weight,Exercise regularly,Don’t drink alcohol, or limit alcoholic drinks,Breastfeed your children, if possible,Follow a healthy eating pattern,Think carefully about using hormone replacement therapy (HRT)')\n",
        "def risk_reduce(sentence):\n",
        "    for word in sentence.split():\n",
        "        if word.lower() in REDUCE_RISK_INPUT:\n",
        "            return (REDUCE_RISK_RESPONSE)"
      ],
      "execution_count": null,
      "outputs": []
    },
    {
      "cell_type": "code",
      "metadata": {
        "id": "BEYyKZFT394c"
      },
      "source": [
        "DIAGNOSE_INPUT = ('how to diagnose','how it is diagnosed?','how breast cancer is diagnosed','diagnose breast cancer')\n",
        "DIAGNOSE_RESPONSE = ('Breast ultrasound,Diagnostic mammogram,Magnetic resonance imaging (MRI),Biopsy')\n",
        "def diagnose(sentence):\n",
        "    for word in sentence.split():\n",
        "        if word.lower() in DIAGNOSE_INPUT:\n",
        "            return (DIAGNOSE_RESPONSE)"
      ],
      "execution_count": null,
      "outputs": []
    },
    {
      "cell_type": "code",
      "metadata": {
        "id": "Z5fossbN4zsr"
      },
      "source": [
        "TREATMENT_INPUT = ('treatment','what are the treatments','treatments for breast cancer are?')\n",
        "TREATMENT_RESPONSE = ('Surgery,Chemotherapy,Hormonal therapy,Biological therapy,Radiation therapy')\n",
        "def treatments(sentence):\n",
        "    for word in sentence.split():\n",
        "        if word.lower() in TREATMENT_INPUT:\n",
        "            return (TREATMENT_RESPONSE)\n"
      ],
      "execution_count": null,
      "outputs": []
    },
    {
      "cell_type": "code",
      "metadata": {
        "id": "Yi5jyG5B5idA"
      },
      "source": [
        "KINDS_INPUT = (\"types of breast cancer\",'what are the types of breast cancer')\n",
        "KINDS_RESPONSE =(\"Invasive ductal carcinoma,Invasive lobular carcinoma\")\n",
        "def kinds(sentence):\n",
        "    for word in sentence.split():\n",
        "        if word.lower() in KINDS_INPUT:\n",
        "            return (KINDS_RESPONSE)"
      ],
      "execution_count": null,
      "outputs": []
    },
    {
      "cell_type": "code",
      "metadata": {
        "id": "YtULq5vN6Brg"
      },
      "source": [
        "WEBSITES_INPUT = ('websites i should visit','websites i should checkout','websites i should know about')\n",
        "WEBSITES_RESPONSE = ('www.cancer.gov , www.cancer.org , www.breastfeeding.org , www.nationalbreastcancer.org , www.bcrf.org')\n",
        "def websites(sentence):\n",
        "    for word in sentence.split():\n",
        "        if word.lower() in WEBSITES_INPUT:\n",
        "            return (WEBSITES_RESPONSE)"
      ],
      "execution_count": null,
      "outputs": []
    },
    {
      "cell_type": "code",
      "metadata": {
        "id": "WN4tncaS8sjK"
      },
      "source": [
        "CONTRIBUTORS_INPUT = (\"contibutors\",\"who are the contributors\")\n",
        "CONTRIBUTORS_RESPONSE = (\"Mahi,Kushagra,Shruti,Riya,Vaibhavi\")\n",
        "def contributors(sentence):\n",
        "    for word in sentence.split():\n",
        "        if word.lower() in CONTRIBUTORS_INPUT:\n",
        "            return (CONTRIBUTORS_RESPONSE)"
      ],
      "execution_count": null,
      "outputs": []
    },
    {
      "cell_type": "code",
      "metadata": {
        "id": "X4ELmd80bMcJ"
      },
      "source": [
        "INSPIRATIONAL_INPUTS = (\"inspire me\",\"im feeling low\",\"im sad\")\n",
        "INSPIRATIONAL_RESPONSES = (\"Don't lose hope.When the sun goes down, the stars come out.\",\"The only way to make sense of change is to plunge into it flow with it...and join the dance.\",\"Cancer changes your life, often for the better. You learn what's important, you learn to prioritize, and you learn not to waste your time. You tell people you love them.\",\"You are loved You are wonderfully made. You are beautiful. You are a masterpiece. God has a great plan for you.\",\"The wish for healing has always been half of health.\",\"Faith is daring to go beyond what the eyes can see.\",\"Just when the caterpillar thought the world was overit became a butterfly.\",\"Faith is daring to go beyond what the eyes can see.\",\"Tears are the sweat of champions\",\"Hope will never be silent.\",\"Cancer is WAY too serious to be taken seriously all the time.\")\n",
        "def inspirational(sentence):\n",
        "    for word in sentence.split():\n",
        "        if word.lower() in INSPIRATIONAL_INPUTS:\n",
        "            return random.choice(INSPIRATIONAL_RESPONSES)"
      ],
      "execution_count": null,
      "outputs": []
    },
    {
      "cell_type": "code",
      "metadata": {
        "id": "XlYI_Jn9YwAp"
      },
      "source": [
        "from sklearn.feature_extraction.text import TfidfVectorizer\n",
        "from sklearn.metrics.pairwise import cosine_similarity"
      ],
      "execution_count": null,
      "outputs": []
    },
    {
      "cell_type": "code",
      "metadata": {
        "id": "XG8OzaQ8Y9sN"
      },
      "source": [
        "def response(user_response):\n",
        "    Meera_response=''\n",
        "    TfidfVec = TfidfVectorizer(tokenizer=LemNormalize, stop_words='english')\n",
        "    tfidf = TfidfVec.fit_transform(sent_tokens)\n",
        "    vals = cosine_similarity(tfidf[-1], tfidf)\n",
        "    idx=vals.argsort()[0][-2]\n",
        "    flat = vals.flatten()\n",
        "    flat.sort()\n",
        "    req_tfidf = flat[-2]\n",
        "    if(req_tfidf==0):\n",
        "        Meera_response=Meera_response+\"I am sorry! I don't understand you\"\n",
        "        return Meera_response\n",
        "    else:\n",
        "        Meera_response = Meera_response+sent_tokens[idx]\n",
        "        return Meera_response"
      ],
      "execution_count": null,
      "outputs": []
    },
    {
      "cell_type": "code",
      "metadata": {
        "id": "EarNvh8NZA7T",
        "colab": {
          "base_uri": "https://localhost:8080/"
        },
        "outputId": "c57c2077-4400-467c-c07c-b4b10432a764"
      },
      "source": [
        "Continue = True\n",
        "print(\"Meera: My name is Meera. I will answer your queries about Chatbots. If you want to exit, type Bye!\")\n",
        "while(Continue == True):\n",
        "    user_response = input()\n",
        "    user_response = user_response.lower()\n",
        "    if(user_response !='bye'):\n",
        "        if(user_response == 'thanks' or user_response == 'thank you' ):\n",
        "            Continue = False\n",
        "            print(\"Meera: You are welcome..\")\n",
        "        else:\n",
        "            if(greeting(user_response) != None):\n",
        "                print(\"Meera: \"+greeting(user_response))\n",
        "            else:\n",
        "                if(breastcancer(user_response)!= None):\n",
        "                    print(\"Meera: \"+breastcancer(user_response))\n",
        "                else:\n",
        "                    if(symptoms(user_response)!= None):\n",
        "                         print(\"Meera: \"+symptoms(user_response))\n",
        "                    else:\n",
        "                        if(risk(user_response)!= None):\n",
        "                            print(\"Meera: \"+risk(user_response))\n",
        "                        \n",
        "                        else:\n",
        "                            if(risk_reduce(user_response) != None):\n",
        "                                print(\"Meera: \"+risk_reduce(user_response))\n",
        "                            else:\n",
        "                                if(diagnose(user_response) != None):\n",
        "                                    print(\"Meera: \"+diagnose(user_response))\n",
        "                                else:\n",
        "                                    if(risk_reduce(user_response) != None):\n",
        "                                        print(\"Meera: \"+risk_reduce(user_response))\n",
        "                                    else:\n",
        "                                        if(treatments(user_response) != None):\n",
        "                                            print(\"Meera: \"+treatments(user_response))\n",
        "                                        else:\n",
        "                                            if(kinds(user_response) != None):\n",
        "                                                print(\"Meera: \"+kinds(user_response))\n",
        "                                            else:\n",
        "                                                if(websites(user_response) != None):\n",
        "                                                    print(\"Meera: \"+websites(user_response))\n",
        "                                                else:\n",
        "                                                    if(contributors(user_response) != None):\n",
        "                                                        print(\"Meera: \"+contributors(user_response))\n",
        "                                                    else:\n",
        "                                                        if(inspirational(user_response) != None):\n",
        "                                                            print(\"Meera: \"+inspirational(user_response))\n",
        "                                                        else:\n",
        "                                                            sent_tokens.append(user_response)\n",
        "                                                            word_tokens = word_tokens+nltk.word_tokenize(user_response)\n",
        "                                                            final_words = list(set(word_tokens))\n",
        "                                                            print(\"Meera: \",end=\"\")\n",
        "                                                            print(response(user_response))\n",
        "                                                            sent_tokens.remove(user_response)\n",
        "    else:\n",
        "        Continue = False\n",
        "        print(\"Meera: Bye! take care..\")"
      ],
      "execution_count": null,
      "outputs": [
        {
          "output_type": "stream",
          "text": [
            "Meera: My name is Meera. I will answer your queries about Chatbots. If you want to exit, type Bye!\n",
            "bye\n",
            "Meera: Bye! take care..\n"
          ],
          "name": "stdout"
        }
      ]
    },
    {
      "cell_type": "code",
      "metadata": {
        "id": "qXpBh__iA5ag"
      },
      "source": [
        ""
      ],
      "execution_count": null,
      "outputs": []
    }
  ]
}
