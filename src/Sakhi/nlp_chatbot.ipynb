{
  "nbformat": 4,
  "nbformat_minor": 0,
  "metadata": {
    "colab": {
      "name": "nlp_chatbot.ipynb",
      "provenance": [],
      "collapsed_sections": []
    },
    "kernelspec": {
      "display_name": "Python 3",
      "name": "python3"
    }
  },
  "cells": [
    {
      "cell_type": "code",
      "metadata": {
        "id": "TfoqlM7lGcZD",
        "colab": {
          "base_uri": "https://localhost:8080/"
        },
        "outputId": "6153788c-4331-4df2-a730-39e15f3b8429"
      },
      "source": [
        "from google.colab import drive\n",
        "drive.mount('/content/drive')"
      ],
      "execution_count": 1,
      "outputs": [
        {
          "output_type": "stream",
          "text": [
            "Mounted at /content/drive\n"
          ],
          "name": "stdout"
        }
      ]
    },
    {
      "cell_type": "code",
      "metadata": {
        "id": "aze7WFno8qLG",
        "colab": {
          "base_uri": "https://localhost:8080/"
        },
        "outputId": "ddfe2ab4-a65d-4ff4-d104-1efe09db661d"
      },
      "source": [
        "import nltk\n",
        "from nltk.tokenize import sent_tokenize, word_tokenize\n",
        "nltk.download('punkt')\n",
        "nltk.download('wordnet')\n",
        "import numpy as np\n",
        "import random\n",
        "import string \n",
        "import warnings\n",
        "warnings.simplefilter(\"ignore\")"
      ],
      "execution_count": 2,
      "outputs": [
        {
          "output_type": "stream",
          "text": [
            "[nltk_data] Downloading package punkt to /root/nltk_data...\n",
            "[nltk_data]   Unzipping tokenizers/punkt.zip.\n",
            "[nltk_data] Downloading package wordnet to /root/nltk_data...\n",
            "[nltk_data]   Unzipping corpora/wordnet.zip.\n"
          ],
          "name": "stdout"
        }
      ]
    },
    {
      "cell_type": "code",
      "metadata": {
        "id": "0o_jj5adEH0R",
        "colab": {
          "base_uri": "https://localhost:8080/"
        },
        "outputId": "91dfca61-34c7-42c5-cdc4-b3ef0ae370fb"
      },
      "source": [
        "text_data = open('/content/drive/My Drive/breast_cancer/breast_cancer.txt','r',errors = 'ignore')\n",
        "raw_data = text_data.read()\n",
        "raw_data = raw_data.lower()# converts to lowercase\n",
        "nltk.download('punkt') \n",
        "nltk.download('wordnet') \n",
        "sent_tokens = nltk.sent_tokenize(raw_data)# converts to list of sentences \n",
        "word_tokens = nltk.word_tokenize(raw_data)# converts to list of words"
      ],
      "execution_count": 3,
      "outputs": [
        {
          "output_type": "stream",
          "text": [
            "[nltk_data] Downloading package punkt to /root/nltk_data...\n",
            "[nltk_data]   Package punkt is already up-to-date!\n",
            "[nltk_data] Downloading package wordnet to /root/nltk_data...\n",
            "[nltk_data]   Package wordnet is already up-to-date!\n"
          ],
          "name": "stdout"
        }
      ]
    },
    {
      "cell_type": "code",
      "metadata": {
        "id": "7VFetf9iPfB-",
        "colab": {
          "base_uri": "https://localhost:8080/",
          "height": 155
        },
        "outputId": "25cfd7ca-91eb-4acc-c00a-f0ca9433637d"
      },
      "source": [
        "raw_data"
      ],
      "execution_count": 4,
      "outputs": [
        {
          "output_type": "execute_result",
          "data": {
            "application/vnd.google.colaboratory.intrinsic+json": {
              "type": "string"
            },
            "text/plain": [
              "'breast cancer is a disease in which cells in the breast grow out of control. there are different kinds of breast cancer. the kind of breast cancer depends on which cells in the breast turn into cancer\\nthe incidence of breast cancer is increasing in the developing world due to increasing life expectancy, increased urbanization, and adopting western lifestyles.\\nkind of cancer:-\\ninvasive ductal carcinoma.--the cancer cells grow outside the ducts into other parts of the breast tissue. invasive cancer cells can also spread, or metastasize, to other parts of the body.\\ninvasive lobular carcinoma.--cancer cells spread from the lobules to the breast tissues that are close by. these invasive cancer cells can also spread to other parts of the body.\\n\\nsymptoms of breast cancer\\n1.new lump in the breast or underarm (armpit).\\n2.thickening or swelling of part of the breast.\\n3.irritation or dimpling of breast skin.\\n4.redness or flaky skin in the nipple area or the breast.\\n5.pulling in of the nipple or pain in the nipple area.\\n6.nipple discharge is other than breast milk, including blood.\\n7.any change in the size or the shape of the breast.\\n8.pain in any area of the breast.\\n\\nthere are two early detection methods:\\n-early diagnosis or awareness of early signs and symptoms in symptomatic populations in order to facilitate diagnosis and early treatment, and\\n-screening that is the systematic application of a screening test in a presumably asymptomatic population. it aims to identify individuals with an abnormality suggestive of cancer.\\n\\nmodifying or avoiding the following key risk factors can help prevent cancer:\\n-avoid tobacco use, including cigarettes and smokeless tobacco\\n-maintain a healthy weight\\n-eat a healthy diet with plenty of fruit and vegetables\\n-exercise regularly\\n-limit alcohol use\\n-practice safe sex \\n-get vaccinated against hepatitis b and human papillomavirus (hpv)\\n-reduce exposure to ultraviolet radiation and ionizing radiation (occupational or medical diagnostic imaging)\\n-avoid urban air pollution and indoor smoke from household use of solid fuels\\n-get regular medical care\\n-some chronic infections are also risk factors for cancer. people in low- and middle-income countries are more likely to develop cancer through chronic infections.\\n\\n\\nbreast cancer can be treated by-\\n*surgery\\n*chemotherapy\\n*hormonal therapy\\n*biological therapy\\n*radiation therapy'"
            ]
          },
          "metadata": {
            "tags": []
          },
          "execution_count": 4
        }
      ]
    },
    {
      "cell_type": "code",
      "metadata": {
        "id": "W7Kj3xublcme",
        "colab": {
          "base_uri": "https://localhost:8080/",
          "height": 265
        },
        "outputId": "818170ca-efbc-4629-c089-c15bb627bb75"
      },
      "source": [
        "from matplotlib import pyplot as plt  #line 1\n",
        "test = word_tokenize(raw_data)\n",
        "word_len = [len(length) for length in test]\n",
        "plt.hist(word_len)\n",
        "plt.show()"
      ],
      "execution_count": 5,
      "outputs": [
        {
          "output_type": "display_data",
          "data": {
            "image/png": "[encoded data removed]",
            "text/plain": [
              "<Figure size 432x288 with 1 Axes>"
            ]
          },
          "metadata": {
            "tags": [],
            "needs_background": "light"
          }
        }
      ]
    },
    {
      "cell_type": "code",
      "metadata": {
        "id": "9hSEtb2KMjGd",
        "colab": {
          "base_uri": "https://localhost:8080/"
        },
        "outputId": "15d4ee77-4b76-4f62-c5fc-3ebe92cbd003"
      },
      "source": [
        "sent_tokens[:2]\n"
      ],
      "execution_count": 6,
      "outputs": [
        {
          "output_type": "execute_result",
          "data": {
            "text/plain": [
              "['breast cancer is a disease in which cells in the breast grow out of control.',\n",
              " 'there are different kinds of breast cancer.']"
            ]
          },
          "metadata": {
            "tags": []
          },
          "execution_count": 6
        }
      ]
    },
    {
      "cell_type": "code",
      "metadata": {
        "id": "zJK3hEGuMnI0",
        "colab": {
          "base_uri": "https://localhost:8080/"
        },
        "outputId": "2254a87c-fdc9-4a4c-d9dd-27e154396408"
      },
      "source": [
        "word_tokens[:2]"
      ],
      "execution_count": 7,
      "outputs": [
        {
          "output_type": "execute_result",
          "data": {
            "text/plain": [
              "['breast', 'cancer']"
            ]
          },
          "metadata": {
            "tags": []
          },
          "execution_count": 7
        }
      ]
    },
    {
      "cell_type": "code",
      "metadata": {
        "id": "GAzNaA8CmqMg",
        "colab": {
          "base_uri": "https://localhost:8080/"
        },
        "outputId": "de78ec46-7b9d-49c2-a9a2-02c5d85756c6"
      },
      "source": [
        "print(set(sent_tokenize(raw_data)))"
      ],
      "execution_count": 8,
      "outputs": [
        {
          "output_type": "stream",
          "text": [
            "{'symptoms of breast cancer\\n1.new lump in the breast or underarm (armpit).', 'invasive cancer cells can also spread, or metastasize, to other parts of the body.', '4.redness or flaky skin in the nipple area or the breast.', '6.nipple discharge is other than breast milk, including blood.', 'there are two early detection methods:\\n-early diagnosis or awareness of early signs and symptoms in symptomatic populations in order to facilitate diagnosis and early treatment, and\\n-screening that is the systematic application of a screening test in a presumably asymptomatic population.', 'it aims to identify individuals with an abnormality suggestive of cancer.', '2.thickening or swelling of part of the breast.', 'breast cancer can be treated by-\\n*surgery\\n*chemotherapy\\n*hormonal therapy\\n*biological therapy\\n*radiation therapy', 'the kind of breast cancer depends on which cells in the breast turn into cancer\\nthe incidence of breast cancer is increasing in the developing world due to increasing life expectancy, increased urbanization, and adopting western lifestyles.', '5.pulling in of the nipple or pain in the nipple area.', 'these invasive cancer cells can also spread to other parts of the body.', '8.pain in any area of the breast.', 'invasive lobular carcinoma.--cancer cells spread from the lobules to the breast tissues that are close by.', 'breast cancer is a disease in which cells in the breast grow out of control.', 'people in low- and middle-income countries are more likely to develop cancer through chronic infections.', 'kind of cancer:-\\ninvasive ductal carcinoma.--the cancer cells grow outside the ducts into other parts of the breast tissue.', '3.irritation or dimpling of breast skin.', 'modifying or avoiding the following key risk factors can help prevent cancer:\\n-avoid tobacco use, including cigarettes and smokeless tobacco\\n-maintain a healthy weight\\n-eat a healthy diet with plenty of fruit and vegetables\\n-exercise regularly\\n-limit alcohol use\\n-practice safe sex \\n-get vaccinated against hepatitis b and human papillomavirus (hpv)\\n-reduce exposure to ultraviolet radiation and ionizing radiation (occupational or medical diagnostic imaging)\\n-avoid urban air pollution and indoor smoke from household use of solid fuels\\n-get regular medical care\\n-some chronic infections are also risk factors for cancer.', 'there are different kinds of breast cancer.', '7.any change in the size or the shape of the breast.'}\n"
          ],
          "name": "stdout"
        }
      ]
    },
    {
      "cell_type": "code",
      "metadata": {
        "id": "b6sJz0Xfmti6",
        "colab": {
          "base_uri": "https://localhost:8080/"
        },
        "outputId": "d94b2cfe-7b35-4743-da78-3bd809a79850"
      },
      "source": [
        "print(set(word_tokenize(raw_data)))"
      ],
      "execution_count": 9,
      "outputs": [
        {
          "output_type": "stream",
          "text": [
            "{'more', 'lump', '8.pain', '-eat', 'are', 'healthy', 'alcohol', 'through', 'parts', 'risk', 'ultraviolet', 'presumably', 'be', 'early', 'an', 'medical', 'is', 'signs', 'treatment', 'it', 'people', 'countries', 'symptoms', 'facilitate', 'following', 'by-', 'by', '1.new', 'ionizing', 'western', 'avoiding', 'smoke', 'care', ':', 'order', 'control', 'two', 'develop', 'due', '*radiation', 'populations', 'cancer', '4.redness', 'invasive', 'urbanization', 'human', 'outside', 'other', 'area', 'aims', 'prevent', 'underarm', 'vegetables', 'against', 'developing', 'swelling', 'systematic', 'nipple', '-avoid', '*surgery', '3.irritation', 'weight', 'close', 'ductal', 'carcinoma.', '-', '-reduce', 'low-', 'milk', 'expectancy', 'sex', 'kinds', 'tobacco', 'life', 'flaky', '*hormonal', 'cells', 'also', 'application', 'safe', 'hpv', ',', 'depends', 'that', 'from', '6.nipple', 'can', '*chemotherapy', 'breast', 'suggestive', 'middle-income', 'in', 'grow', 'and', 'size', 'therapy', 'to', 'with', 'spread', 'modifying', 'body', 'radiation', 'treated', 'symptomatic', 'solid', 'adopting', 'fruit', 'asymptomatic', 'blood', 'lobular', 'these', 'screening', 'exposure', '*biological', 'detection', '-screening', 'awareness', '-exercise', 'pain', 'household', 'tissue', 'a', 'incidence', 'any', 'regularly', 'papillomavirus', 'methods', 'test', 'cigarettes', 'into', 'world', 'plenty', 'there', '-early', 'infections', 'smokeless', 'discharge', '(', '--', 'out', 'vaccinated', 'part', 'key', 'likely', 'different', 'or', 'abnormality', 'regular', '.', 'disease', 'lifestyles', '2.thickening', 'for', 'kind', 'indoor', 'diagnostic', 'than', 'identify', ')', 'individuals', 'factors', '-get', '5.pulling', 'diagnosis', 'imaging', 'of', 'hepatitis', 'occupational', 'pollution', 'b', 'diet', '7.any', 'on', 'change', 'chronic', 'the', 'shape', 'help', 'lobules', 'metastasize', '-limit', 'fuels', 'which', 'urban', '-some', 'increased', 'including', '-practice', 'air', 'armpit', 'population', 'turn', 'increasing', 'ducts', '-maintain', 'dimpling', 'use', 'tissues', 'skin'}\n"
          ],
          "name": "stdout"
        }
      ]
    },
    {
      "cell_type": "code",
      "metadata": {
        "id": "12YBTy-j-C9b"
      },
      "source": [
        "lemmer = nltk.stem.WordNetLemmatizer()\n",
        "def LemTokens(tokens):\n",
        "    return [lemmer.lemmatize(token) for token in tokens]\n",
        "remove_punct_dict = dict((ord(punct), None) for punct in string.punctuation)\n",
        "def LemNormalize(text):\n",
        "    return LemTokens(nltk.word_tokenize(text.lower().translate(remove_punct_dict)))"
      ],
      "execution_count": 10,
      "outputs": []
    },
    {
      "cell_type": "code",
      "metadata": {
        "id": "cfWXfAJ0-Jig"
      },
      "source": [
        "GREETING_INPUTS = (\"hello\", \"hi\", \"greetings\", \"sup\", \"what's up\",\"hey\",)\n",
        "GREETING_RESPONSES = [\"hi\", \"hey\", \"*nods*\", \"hi there\", \"hello\", \"I am glad! You are talking to me\"]\n",
        "def greeting(sentence):\n",
        " \n",
        "    for word in sentence.split():\n",
        "        if word.lower() in GREETING_INPUTS:\n",
        "            return random.choice(GREETING_RESPONSES)"
      ],
      "execution_count": 12,
      "outputs": []
    },
    {
      "cell_type": "code",
      "metadata": {
        "id": "KEJVnKjA-UNG"
      },
      "source": [
        "from sklearn.feature_extraction.text import TfidfVectorizer\n",
        "from sklearn.metrics.pairwise import cosine_similarity"
      ],
      "execution_count": 13,
      "outputs": []
    },
    {
      "cell_type": "code",
      "metadata": {
        "id": "K81Wo2Ef-d4X"
      },
      "source": [
        "def response(user_response):\n",
        "    Meera_response = ''\n",
        "    TfidfVec = TfidfVectorizer(tokenizer = LemNormalize, stop_words = 'english')\n",
        "    tfidf = TfidfVec.fit_transform(sent_tokens)\n",
        "    vals = cosine_similarity(tfidf[-1], tfidf)\n",
        "    idx = vals.argsort()[0][-2]\n",
        "    flat = vals.flatten()\n",
        "    flat.sort()\n",
        "    req_tfidf = flat[-2]\n",
        "    if(req_tfidf == 0):\n",
        "        Meera_response = Meera_response + \"I am sorry! I don't understand you\"\n",
        "        return Meera_response\n",
        "    else:\n",
        "        Meera_response = Meera_response+sent_tokens[idx]\n",
        "        return Meera_response"
      ],
      "execution_count": 15,
      "outputs": []
    },
    {
      "cell_type": "code",
      "metadata": {
        "id": "GmWbC6ZVHgM0",
        "colab": {
          "base_uri": "https://localhost:8080/"
        },
        "outputId": "3d322979-d041-4b43-f5f3-55ae56bdbe34"
      },
      "source": [
        "Continue = True\n",
        "print(\"Meera: My name is Meera. I will answer your queries. If you want to exit, type Bye!\")\n",
        "while(Continue == True):\n",
        "    user_response = input()\n",
        "    user_response = user_response.lower()\n",
        "    if(user_response !='bye'):\n",
        "        if(user_response =='thanks' or user_response =='thank you' ):\n",
        "            Continue = False\n",
        "            print(\"Meera: You are welcome..\")\n",
        "        else:\n",
        "            if(greeting(user_response) != None):\n",
        "                print(\"Meera: \" + greeting(user_response))\n",
        "            else:\n",
        "                sent_tokens.append(user_response)\n",
        "                word_tokens = word_tokens + nltk.word_tokenize(user_response)\n",
        "                final_words=list(set(word_tokens))\n",
        "                print(\"Meera: \",end = \"\")\n",
        "                print(response(user_response))\n",
        "                sent_tokens.remove(user_response)\n",
        "    else:\n",
        "        Continue=False\n",
        "        print(\"Meera: Bye! take care..\")"
      ],
      "execution_count": 16,
      "outputs": [
        {
          "output_type": "stream",
          "text": [
            "Meera: My name is Meera. I will answer your queries. If you want to exit, type Bye!\n",
            "what is breast cancer\n",
            "Meera: breast cancer is a disease in which cells in the breast grow out of control.\n",
            "bye\n",
            "Meera: Bye! take care..\n"
          ],
          "name": "stdout"
        }
      ]
    }
  ]
}